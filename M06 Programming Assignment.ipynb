{
 "cells": [
  {
   "cell_type": "code",
   "execution_count": 1,
   "id": "3b130ac9-e4a4-4422-a1a9-2675055e79c3",
   "metadata": {},
   "outputs": [
    {
     "name": "stdout",
     "output_type": "stream",
     "text": [
      "Today's String: 2024-04-28\n",
      "Parsed Date: 2024-04-28 00:00:00\n"
     ]
    }
   ],
   "source": [
    "import datetime\n",
    "import random\n",
    "import multiprocessing\n",
    "import time\n",
    "\n",
    "# Task 13.1: Write the current date to a text file\n",
    "def write_date_to_file():\n",
    "    current_date = datetime.datetime.now().strftime(\"%Y-%m-%d\")\n",
    "    with open(\"today.txt\", \"w\") as file:\n",
    "        file.write(current_date)\n",
    "\n",
    "# Task 13.2: Read from the text file\n",
    "def read_date_from_file():\n",
    "    with open(\"today.txt\", \"r\") as file:\n",
    "        today_string = file.read()\n",
    "    return today_string\n",
    "\n",
    "# Function for multiprocessing to print current time after random delay\n",
    "def print_current_time():\n",
    "    time.sleep(random.random())\n",
    "    print(datetime.datetime.now().strftime(\"%Y-%m-%d %H:%M:%S\"))\n",
    "\n",
    "# Task 15.1: Use multiprocessing to create three processes\n",
    "def create_processes():\n",
    "    processes = []\n",
    "    for _ in range(3):\n",
    "        p = multiprocessing.Process(target=print_current_time)\n",
    "        p.start()\n",
    "        processes.append(p)\n",
    "\n",
    "    for p in processes:\n",
    "        p.join()\n",
    "\n",
    "# Task 13.3: Parse the date from today_string\n",
    "def parse_date(today_string):\n",
    "    parsed_date = datetime.datetime.strptime(today_string, \"%Y-%m-%d\")\n",
    "    return parsed_date\n",
    "\n",
    "# Executing the tasks\n",
    "write_date_to_file()\n",
    "today_string = read_date_from_file()\n",
    "create_processes()\n",
    "parsed_date = parse_date(today_string)\n",
    "\n",
    "# Outputs\n",
    "print(\"Today's String:\", today_string)\n",
    "print(\"Parsed Date:\", parsed_date)\n"
   ]
  },
  {
   "cell_type": "code",
   "execution_count": null,
   "id": "2cd3c235-6aed-44c3-9eaa-a48c5da8ed74",
   "metadata": {},
   "outputs": [],
   "source": []
  }
 ],
 "metadata": {
  "kernelspec": {
   "display_name": "Python 3 (ipykernel)",
   "language": "python",
   "name": "python3"
  },
  "language_info": {
   "codemirror_mode": {
    "name": "ipython",
    "version": 3
   },
   "file_extension": ".py",
   "mimetype": "text/x-python",
   "name": "python",
   "nbconvert_exporter": "python",
   "pygments_lexer": "ipython3",
   "version": "3.11.7"
  }
 },
 "nbformat": 4,
 "nbformat_minor": 5
}
